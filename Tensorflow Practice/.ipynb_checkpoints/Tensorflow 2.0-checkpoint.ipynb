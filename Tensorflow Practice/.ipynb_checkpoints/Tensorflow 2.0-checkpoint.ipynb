{
 "cells": [
  {
   "cell_type": "code",
   "execution_count": 81,
   "metadata": {},
   "outputs": [
    {
     "name": "stdout",
     "output_type": "stream",
     "text": [
      "Tensorflow Version : 1.13.1\n",
      "Pandas Version : 0.23.4\n",
      "Numpy Version : 1.15.4\n",
      "Keras Version : 2.2.4-tf\n",
      "OpenCV Version : 4.1.0\n"
     ]
    }
   ],
   "source": [
    "# %load load_packages.py\n",
    "from __future__ import absolute_import, division, print_function\n",
    "\n",
    "# TensorFlow and tf.keras\n",
    "import tensorflow as tf\n",
    "from tensorflow import keras\n",
    "\n",
    "# Helper libraries\n",
    "import numpy as np\n",
    "import matplotlib.pyplot as plt\n",
    "import pandas as pd\n",
    "import cv2\n",
    "\n",
    "def print_package_versions(log_flag=False):\n",
    "    if(log_flag):\n",
    "        print(\"Tensorflow Version :\",tf.__version__)\n",
    "        print(\"Pandas Version :\",pd.__version__)\n",
    "        print(\"Numpy Version :\",np.__version__)\n",
    "        print(\"Keras Version :\",keras.__version__)\n",
    "        print(\"OpenCV Version :\",cv2.__version__)\n",
    "    else:\n",
    "        pass\n",
    "\n",
    "print_package_versions(True)\n"
   ]
  },
  {
   "cell_type": "markdown",
   "metadata": {},
   "source": [
    "### <a href=\"https://github.com/zalandoresearch/fashion-mnist\">MNIST Dataset for Fashion</a>"
   ]
  },
  {
   "cell_type": "code",
   "execution_count": 49,
   "metadata": {},
   "outputs": [],
   "source": [
    "fashion_mnist=keras.datasets.fashion_mnist\n",
    "(train_images,train_labels),(validation_images,validation_labels)=fashion_mnist.load_data()"
   ]
  },
  {
   "cell_type": "code",
   "execution_count": 57,
   "metadata": {},
   "outputs": [
    {
     "name": "stdout",
     "output_type": "stream",
     "text": [
      "No. of images in Train Dataset :  60000\n",
      "Shape of images in Train Dataset : (28, 28)\n",
      "**************************************************\n",
      "**************************************************\n",
      "No. of images in Validation Dataset :  10000\n",
      "Shape of images in Validation Dataset : (28, 28)\n"
     ]
    }
   ],
   "source": [
    "print(\"No. of images in Train Dataset : \",train_images.shape[0])\n",
    "print(\"Shape of images in Train Dataset :\",train_images.shape[1:])\n",
    "print(\"*\"*50)\n",
    "print(\"*\"*50)\n",
    "print(\"No. of images in Validation Dataset : \",validation_images.shape[0])\n",
    "print(\"Shape of images in Validation Dataset :\",validation_images.shape[1:])"
   ]
  },
  {
   "cell_type": "code",
   "execution_count": 65,
   "metadata": {},
   "outputs": [
    {
     "name": "stdout",
     "output_type": "stream",
     "text": [
      "No. of Fashion Categories in Training : 10\n",
      "**************************************************\n",
      "**************************************************\n",
      "No. of Fashion Categories in Validation : 10\n"
     ]
    }
   ],
   "source": [
    "print(\"No. of Fashion Categories in Training :\",np.unique(train_labels).shape[0])\n",
    "print(\"*\"*50)\n",
    "print(\"*\"*50)\n",
    "print(\"No. of Fashion Categories in Validation :\",np.unique(validation_labels).shape[0])"
   ]
  },
  {
   "cell_type": "code",
   "execution_count": 66,
   "metadata": {},
   "outputs": [],
   "source": [
    "labels=['T-shirt/top', 'Trouser', 'Pullover', 'Dress', 'Coat', \n",
    "               'Sandal', 'Shirt', 'Sneaker', 'Bag', 'Ankle boot']"
   ]
  },
  {
   "cell_type": "markdown",
   "metadata": {},
   "source": [
    "### PreProcess the data"
   ]
  },
  {
   "cell_type": "code",
   "execution_count": null,
   "metadata": {},
   "outputs": [],
   "source": []
  }
 ],
 "metadata": {
  "kernelspec": {
   "display_name": "Python 3",
   "language": "python",
   "name": "python3"
  },
  "language_info": {
   "codemirror_mode": {
    "name": "ipython",
    "version": 3
   },
   "file_extension": ".py",
   "mimetype": "text/x-python",
   "name": "python",
   "nbconvert_exporter": "python",
   "pygments_lexer": "ipython3",
   "version": "3.6.7"
  }
 },
 "nbformat": 4,
 "nbformat_minor": 2
}
